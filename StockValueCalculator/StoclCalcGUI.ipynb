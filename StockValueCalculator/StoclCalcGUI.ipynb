{
 "cells": [
  {
   "cell_type": "code",
   "execution_count": 9,
   "metadata": {},
   "outputs": [],
   "source": [
    "\n",
    "import tkinter as tk\n",
    "from tkinter import *\n",
    "import pandas as pd\n",
    "from tkinter import messagebox"
   ]
  },
  {
   "cell_type": "markdown",
   "metadata": {},
   "source": [
    "# Functions to define the Stock, Dividend with & without Reinvestment - "
   ]
  },
  {
   "cell_type": "code",
   "execution_count": 10,
   "metadata": {},
   "outputs": [],
   "source": [
    "def funcStockpriceDividendPrice(n):\n",
    "    priceList = []\n",
    "    dividendList = []\n",
    "    stockPerPrice = 28 #in dollars\n",
    "    totalShares = 100\n",
    "    for i in range(1, n+1):\n",
    "        stockInvested = totalShares*stockPerPrice*((1.07)**i)\n",
    "        # Dividend = 3.4% of the total share and increases by 20% every year later\n",
    "        dividendValue = stockInvested*(0.034*(1.2**(i-1)))  \n",
    "        stockPriceRevised = stockPerPrice*((1.07)**i)\n",
    "        dividendList.append(dividendValue)\n",
    "        priceList.append(stockPriceRevised)       \n",
    "    return priceList,dividendList\n",
    "\n",
    "def funcStockpriceReinvestedPrice(n):\n",
    "    priceList = []\n",
    "    reinvestedStockPercList = []\n",
    "    stockPerPrice = 28 #in dollars\n",
    "    totalShares = 100\n",
    "    for i in range(1, n+1):\n",
    "        stockInvested = totalShares*stockPerPrice*((1.07)**i)\n",
    "        # Dividend = 3.4% of the total share and increases by 20% every year later\n",
    "        dividendValue = stockInvested*(0.034*(1.2**(i-1)))  \n",
    "        stockPriceRevised = stockPerPrice*((1.07)**i)\n",
    "        reinvestedStockPerc = dividendValue/stockPriceRevised\n",
    "        priceList.append(stockPriceRevised)\n",
    "        reinvestedStockPercList.append(reinvestedStockPerc)               \n",
    "    return priceList,reinvestedStockPercList"
   ]
  },
  {
   "cell_type": "markdown",
   "metadata": {},
   "source": [
    "# Creating a window which show the constant values and the years value default set as 1 - "
   ]
  },
  {
   "cell_type": "code",
   "execution_count": 11,
   "metadata": {},
   "outputs": [],
   "source": [
    "window = tk.Tk()\n",
    "window.title(\"Stock Value Calculator\")\n",
    "window.geometry(\"400x500\")\n",
    "window.configure(bg ='light yellow')\n",
    "tk.Label(window, bg='light yellow', text = 'Total Shares - ').grid(row = 2, sticky = 'W')\n",
    "tk.Label(window, bg='light yellow', text = 'Price per Share - ').grid(row = 4, sticky = 'W')\n",
    "tk.Label(window, bg='light yellow', text = 'Enter number of years - ').grid(row = 6, sticky = 'W')\n",
    "tk.Label(window, bg='light yellow', text = '\\nClick on below option to check the result for the number of years entered \\n',font = \"Helvetica 8 italic\",fg = \"red\").grid(row = 8, sticky = 'W')\n",
    "\n",
    "\n",
    "v1 = StringVar(window, value = '100')\n",
    "v2 = StringVar(window, value = '$28')\n",
    "v3 = StringVar(window, value = getint())\n",
    "v3.set(2)\n",
    "\n",
    "\n",
    "e1 = tk.Entry(window, textvariable = v1, background = 'light yellow', highlightthickness = 0, borderwidth=0)\n",
    "e2 = tk.Entry(window, textvariable = v2, background = 'light yellow', highlightthickness = 0, borderwidth=0)\n",
    "e3 = tk.Entry(window, textvariable = v3)\n",
    "\n",
    "e1.grid(row = 2, column = 3)\n",
    "e2.grid(row = 4, column = 3)\n",
    "e3.grid(row = 6, column = 3)\n",
    "\n"
   ]
  },
  {
   "cell_type": "code",
   "execution_count": null,
   "metadata": {},
   "outputs": [],
   "source": [
    "# Creating a selection using radio button\n",
    "\n",
    "#v = StringVar(window,\"2\")\n",
    "v = IntVar()\n",
    "options = {\"Dividend WITH Reinvestment\":1, \"Dividend WITHOUT Reinvestment\":2}\n",
    "\n",
    "def sel():\n",
    "    choice  = v.get()\n",
    "    priceList = []\n",
    "    dividendOrStockList = []\n",
    "    output = \"invalid\"\n",
    "    if choice == 1:\n",
    "        output = \"Dividend WITH Reinvestment\"\n",
    "        priceList,dividendOrStockList = funcStockpriceReinvestedPrice(int(v3.get()))\n",
    "    elif choice == 2:\n",
    "        output = \"Dividend WITHOUT Reinvestment\"\n",
    "        priceList,dividendOrStockList = funcStockpriceDividendPrice(int(v3.get()))\n",
    "    else:\n",
    "        output = \"invalid\"\n",
    "    if output == \"Dividend WITH Reinvestment\":\n",
    "        messagebox.showinfo('Summary',f'Your {output} for {str(v3.get())} years makes total stocks as {sum(dividendOrStockList) + 100}'  )\n",
    "    elif output == \"Dividend WITHOUT Reinvestment\":\n",
    "        messagebox.showinfo('Summary',f'You Selected {output} for {str(v3.get())} years makes total Dividend as ${sum(dividendOrStockList)} \\n and the Stock price as ${priceList[-1]} per stock after {str(v3.get())} years'  )\n",
    "    \n",
    "for (txt, val) in options.items():\n",
    "    Radiobutton(window, text=txt, variable=v, value=val, bg = 'light yellow',command=sel).grid(sticky = 'W')\n",
    "\n",
    "window.mainloop()"
   ]
  },
  {
   "cell_type": "code",
   "execution_count": null,
   "metadata": {},
   "outputs": [],
   "source": []
  }
 ],
 "metadata": {
  "kernelspec": {
   "display_name": "Python 3",
   "language": "python",
   "name": "python3"
  },
  "language_info": {
   "codemirror_mode": {
    "name": "ipython",
    "version": 3
   },
   "file_extension": ".py",
   "mimetype": "text/x-python",
   "name": "python",
   "nbconvert_exporter": "python",
   "pygments_lexer": "ipython3",
   "version": "3.8.5"
  }
 },
 "nbformat": 4,
 "nbformat_minor": 4
}
