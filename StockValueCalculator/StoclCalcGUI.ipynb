{
 "cells": [
  {
   "cell_type": "code",
   "execution_count": 32,
   "metadata": {},
   "outputs": [],
   "source": [
    "import tkinter as tk\n"
   ]
  },
  {
   "cell_type": "code",
   "execution_count": 33,
   "metadata": {},
   "outputs": [],
   "source": [
    "window = tk.Tk()\n",
    "window.title(\"Stock Value Calculator\")\n",
    "window.geometry(\"400x500\")\n",
    "window.configure(bg ='light green')\n",
    "tk.Label(window, bg='light green', text = 'Total Shares').grid(row = 2, sticky = W)\n",
    "#l1.configure(bg = 'light green')\n",
    "tk.Label(window, bg='light green', text = 'Price per Share').grid(row = 4, sticky = W)\n",
    "#l2.configure(bg = 'light green')\n",
    "v1 = StringVar(window, value = '100')\n",
    "v2 = StringVar(window, value = '$28')\n",
    "e1 = tk.Entry(window, textvariable = v1)\n",
    "e2 = tk.Entry(window, textvariable = v2)\n",
    "e1.grid(row = 2, column = 3)\n",
    "e2.grid(row = 4, column = 3)\n",
    "window.mainloop()"
   ]
  },
  {
   "cell_type": "code",
   "execution_count": 20,
   "metadata": {},
   "outputs": [],
   "source": [
    "fields = ('Total Share', 'Price per Share', 'Number of Years' )\n"
   ]
  },
  {
   "cell_type": "code",
   "execution_count": null,
   "metadata": {},
   "outputs": [],
   "source": [
    "def withoutReinvestment(n,dividendValue,priceList,dividendList):\n",
    "    for i in range(1, n+1):\n",
    "        stockPriceRevised = float(totalShares*stockPerPrice*((1.07)**i))\n",
    "        dividendValue = (dividendValue + stockPriceRevised*(0.034*(1.2**(i-1))))  # Dividend = 3.4% of the total share and increases by 20% every year later\n",
    "        #stockReinvestprice = (stockPriceRevised*1.07)+dividendValue\n",
    "        dividendList.append(dividendValue)\n",
    "        priceList.append(stockPriceRevised)\n",
    "               \n",
    "return priceList,dividendList\n"
   ]
  }
 ],
 "metadata": {
  "kernelspec": {
   "display_name": "Python 3",
   "language": "python",
   "name": "python3"
  },
  "language_info": {
   "codemirror_mode": {
    "name": "ipython",
    "version": 3
   },
   "file_extension": ".py",
   "mimetype": "text/x-python",
   "name": "python",
   "nbconvert_exporter": "python",
   "pygments_lexer": "ipython3",
   "version": "3.8.5"
  }
 },
 "nbformat": 4,
 "nbformat_minor": 4
}
