{
 "cells": [
  {
   "cell_type": "code",
   "execution_count": 1,
   "metadata": {},
   "outputs": [],
   "source": [
    "import numpy\n",
    "import math\n",
    "import pandas as pd"
   ]
  },
  {
   "cell_type": "code",
   "execution_count": 8,
   "metadata": {},
   "outputs": [],
   "source": [
    "# Global Variable \n",
    "stockPerPrice = 28 #in dollars\n",
    "totalShares = 100\n",
    "priceList = []\n",
    "dividendList = []\n",
    "reinvestedStockPercList = []\n",
    "#stockReinvest = []\n",
    "\n"
   ]
  },
  {
   "cell_type": "code",
   "execution_count": 11,
   "metadata": {},
   "outputs": [],
   "source": [
    "# a. Net worth of the stocks WITHOUT divident reinvestment\n",
    "\n",
    "\n",
    "def funcStockpriceDividendPrice(n,priceList,dividendList,reinvestedStockPercList):\n",
    "    for i in range(1, n+1):\n",
    "        stockPriceRevised = float(totalShares*stockPerPrice*((1.07)**i))\n",
    "        dividendValue = stockPriceRevised*(0.034*(1.2**(i-1)))  # Dividend = 3.4% of the total share and increases by 20% every year later\n",
    "        reinvestedStockPerc = dividendValue/stockPriceRevised\n",
    "        #stockReinvestprice = (stockPriceRevised*1.07)+dividendValue\n",
    "        dividendList.append(dividendValue)\n",
    "        priceList.append(stockPriceRevised)\n",
    "        reinvestedStockPercList.append(reinvestedStockPerc)\n",
    "               \n",
    "    return priceList,dividendList,reinvestedStockPercList"
   ]
  },
  {
   "cell_type": "code",
   "execution_count": 12,
   "metadata": {},
   "outputs": [
    {
     "name": "stdout",
     "output_type": "stream",
     "text": [
      "Year = 11\n",
      "Stock Prices : [2996.0, 3205.7200000000003, 3430.1204000000002, 3670.2288280000007, 3927.144845960001, 4202.044985177201, 4496.188134139606, 4810.921303529379, 5147.685794776436, 5508.023800410786, 5893.585466439542]\n",
      "Dividend Yeild :  [101.864, 130.79337600000002, 167.93869478400003, 215.63328410265603, 276.8731367878104, 355.5051076355485, 456.46855820404426, 586.105628733993, 752.559627294447, 966.2865614460699, 1240.7119448967537]\n",
      "Dividend Reinvestment :  [0.034, 0.0408, 0.048960000000000004, 0.058752, 0.0705024, 0.08460287999999999, 0.10152345599999998, 0.12182814719999999, 0.14619377663999997, 0.17543253196799996, 0.21051903836159994]\n"
     ]
    }
   ],
   "source": [
    "\n",
    "# Total stocks = 100 \n",
    "# each year increment in share price = 7%\n",
    "stockPerPrice = 28 #in dollars\n",
    "totalShares = 100\n",
    "priceList = []\n",
    "dividendList = []\n",
    "reinvestedStockPercList = []\n",
    "\n",
    "n = int(input(\"Year = \"))\n",
    "priceList,dividendList,reinvestedStockPercList = funcStockpriceDividendPrice(n,priceList,dividendList,reinvestedStockPercList)\n",
    "print(\"Stock Prices :\",priceList)\n",
    "print(\"Dividend Yeild : \",dividendList)\n",
    "print(\"Dividend Reinvestment : \",reinvestedStockPercList)\n",
    "\n",
    "\n"
   ]
  },
  {
   "cell_type": "code",
   "execution_count": 14,
   "metadata": {},
   "outputs": [
    {
     "name": "stdout",
     "output_type": "stream",
     "text": [
      "5250.739919885322\n",
      "101.0931142301696\n"
     ]
    }
   ],
   "source": [
    "print(sum(dividendList))\n",
    "\n",
    "print(sum(reinvestedStockPercList) + 100) "
   ]
  },
  {
   "cell_type": "code",
   "execution_count": 41,
   "metadata": {},
   "outputs": [],
   "source": [
    "# b. Net worth of the stocks WITH divident reinvestment\n",
    "\n",
    "\n",
    "\n",
    "#def stockPriceWithReinvestment(n,priceList1):\n",
    "  #  for p in range(1, n+1):\n",
    "  #      tStock = (priceList[p]*1.07)+dividendList[p]\n",
    "     #   priceList1.append(tStock)\n",
    "    #return priceList1\n",
    "        \n",
    "            "
   ]
  },
  {
   "cell_type": "code",
   "execution_count": 47,
   "metadata": {},
   "outputs": [],
   "source": [
    "#n = int(input(\"Year = \"))\n",
    "#priceList1 = stockPriceWithReinvestment(n,priceList1)\n",
    "#print(\"stock net price : \",priceList1)"
   ]
  },
  {
   "cell_type": "code",
   "execution_count": null,
   "metadata": {},
   "outputs": [],
   "source": []
  }
 ],
 "metadata": {
  "kernelspec": {
   "display_name": "Python 3",
   "language": "python",
   "name": "python3"
  },
  "language_info": {
   "codemirror_mode": {
    "name": "ipython",
    "version": 3
   },
   "file_extension": ".py",
   "mimetype": "text/x-python",
   "name": "python",
   "nbconvert_exporter": "python",
   "pygments_lexer": "ipython3",
   "version": "3.8.5"
  }
 },
 "nbformat": 4,
 "nbformat_minor": 4
}
