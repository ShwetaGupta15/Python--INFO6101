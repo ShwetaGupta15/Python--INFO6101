{
 "cells": [
  {
   "cell_type": "code",
   "execution_count": 2,
   "metadata": {},
   "outputs": [],
   "source": [
    "import numpy\n",
    "import math\n",
    "import pandas as pd"
   ]
  },
  {
   "cell_type": "code",
   "execution_count": 45,
   "metadata": {},
   "outputs": [],
   "source": [
    "def funcStockpriceDividendPrice(n,dividendValue,priceList,dividendList):\n",
    "    for i in range(1, n+1):\n",
    "        stockPriceRevised = float(28*((1.07)**i))\n",
    "        dividendValue = dividendValue + stockPriceRevised*(0.034*(1.2**(i-1)))\n",
    "        dividendList.append(dividendValue)\n",
    "        priceList.append(stockPriceRevised)\n",
    "    return priceList,dividendList"
   ]
  },
  {
   "cell_type": "code",
   "execution_count": null,
   "metadata": {},
   "outputs": [],
   "source": []
  },
  {
   "cell_type": "code",
   "execution_count": null,
   "metadata": {},
   "outputs": [],
   "source": []
  },
  {
   "cell_type": "code",
   "execution_count": null,
   "metadata": {},
   "outputs": [],
   "source": []
  },
  {
   "cell_type": "code",
   "execution_count": 46,
   "metadata": {},
   "outputs": [
    {
     "name": "stdout",
     "output_type": "stream",
     "text": [
      "Year = 2\n",
      "[29.96, 32.0572]\n",
      "[1.0186400000000002, 2.3265737600000005]\n"
     ]
    }
   ],
   "source": [
    "# Total stocks = 100 \n",
    "# price per share = $28\n",
    "# each year increment in share price = 7%\n",
    "\n",
    "priceList = []\n",
    "dividendList = []\n",
    "n = int(input(\"Year = \"))\n",
    "dividendValue = 0.0\n",
    "\n",
    "priceList,dividendList = funcStockpriceDividendPrice(n,dividendValue,priceList,dividendList)\n",
    "\n",
    "print(priceList)\n",
    "print(dividendList)\n",
    "\n"
   ]
  },
  {
   "cell_type": "code",
   "execution_count": 47,
   "metadata": {},
   "outputs": [],
   "source": [
    "# Dividend = 3.4% of the total share\n",
    "# Dividend yield increases by 20% every year later"
   ]
  },
  {
   "cell_type": "code",
   "execution_count": null,
   "metadata": {},
   "outputs": [],
   "source": []
  }
 ],
 "metadata": {
  "kernelspec": {
   "display_name": "Python 3",
   "language": "python",
   "name": "python3"
  },
  "language_info": {
   "codemirror_mode": {
    "name": "ipython",
    "version": 3
   },
   "file_extension": ".py",
   "mimetype": "text/x-python",
   "name": "python",
   "nbconvert_exporter": "python",
   "pygments_lexer": "ipython3",
   "version": "3.8.5"
  }
 },
 "nbformat": 4,
 "nbformat_minor": 4
}
