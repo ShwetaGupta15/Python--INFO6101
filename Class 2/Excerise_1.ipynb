{
 "cells": [
  {
   "cell_type": "code",
   "execution_count": 5,
   "metadata": {},
   "outputs": [
    {
     "name": "stdout",
     "output_type": "stream",
     "text": [
      "Enter String 1: Raspberry Cake\n",
      "Enter String 2: Dumplings\n",
      "output -> ReDs\n"
     ]
    }
   ],
   "source": [
    "# Write a script that takes as input two strings,and outputs a new string made of the first and last characters \n",
    "# of the two strings. E.g. input string \"good boy\" and \"bad show\" outputs \"gybw\".\n",
    "\n",
    "var1 = input(\"Enter String 1: \")\n",
    "var2 = input(\"Enter String 2: \")\n",
    "\n",
    "output = var1[0]+var1[-1]+var2[0]+var2[-1]\n",
    "print('output ->',output)\n",
    "\n"
   ]
  },
  {
   "cell_type": "code",
   "execution_count": 13,
   "metadata": {},
   "outputs": [
    {
     "name": "stdout",
     "output_type": "stream",
     "text": [
      "Enter string in Uppercase : AMERICA\n",
      "America\n"
     ]
    }
   ],
   "source": [
    "# Write a script which will convert an all uppercase word into a all lowercase word except the first character\n",
    "# without using a for loop !\n",
    "\n",
    "var3 = input(\"Enter string in Uppercase : \")\n",
    "if (var3.isupper()) == True:\n",
    "    print(var3[0]+var3[1:].lower())\n",
    "else:\n",
    "    print(\"please enter string in upper case\")"
   ]
  },
  {
   "cell_type": "code",
   "execution_count": 20,
   "metadata": {},
   "outputs": [
    {
     "name": "stdout",
     "output_type": "stream",
     "text": [
      "Enter String : This music is not very good\n",
      "This music is bad\n"
     ]
    }
   ],
   "source": [
    "# Find the first occurences of the words 'not' and 'good'. If not preceeds good, change the whole substring to 'bad' \n",
    "# Use case: \"This music is not very good\" changes to \"This music is bad\"\n",
    "\n",
    "var4 = input(\"Enter String : \")\n",
    "var5 = var4.index('not')\n",
    "var6 = var4.index('good')\n",
    "\n",
    "if (var5 < var6):\n",
    "    print(var4.replace(var4[var5:],'bad'))\n",
    "else:\n",
    "    print('enter string with not & good')"
   ]
  },
  {
   "cell_type": "code",
   "execution_count": null,
   "metadata": {},
   "outputs": [],
   "source": []
  }
 ],
 "metadata": {
  "kernelspec": {
   "display_name": "Python 3",
   "language": "python",
   "name": "python3"
  },
  "language_info": {
   "codemirror_mode": {
    "name": "ipython",
    "version": 3
   },
   "file_extension": ".py",
   "mimetype": "text/x-python",
   "name": "python",
   "nbconvert_exporter": "python",
   "pygments_lexer": "ipython3",
   "version": "3.8.5"
  }
 },
 "nbformat": 4,
 "nbformat_minor": 4
}
