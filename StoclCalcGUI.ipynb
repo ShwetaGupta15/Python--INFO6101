{
 "cells": [
  {
   "cell_type": "code",
   "execution_count": 112,
   "metadata": {},
   "outputs": [],
   "source": [
    "\n",
    "import tkinter as tk\n",
    "from tkinter import *\n",
    "import pandas as pd\n",
    "from tkinter import messagebox"
   ]
  },
  {
   "cell_type": "markdown",
   "metadata": {},
   "source": [
    "# Functions to define the Stock, Dividend with & without Reinvestment - "
   ]
  },
  {
   "cell_type": "code",
   "execution_count": 113,
   "metadata": {},
   "outputs": [],
   "source": [
    "def funcStockpriceDividendPrice(n):\n",
    "    priceList = []\n",
    "    dividendList = []\n",
    "    #reinvestedStockPercList = []\n",
    "    stockPerPrice = 28 #in dollars\n",
    "    totalShares = 100\n",
    "    for i in range(1, n+1):\n",
    "        stockPriceRevised = float(totalShares*stockPerPrice*((1.07)**i))\n",
    "        dividendValue = stockPriceRevised*(0.034*(1.2**(i-1)))  # Dividend = 3.4% of the total share and increases by 20% every year later\n",
    "        #reinvestedStockPerc = dividendValue/stockPriceRevised\n",
    "        #stockReinvestprice = (stockPriceRevised*1.07)+dividendValue\n",
    "        dividendList.append(dividendValue)\n",
    "        priceList.append(stockPriceRevised)\n",
    "        #reinvestedStockPercList.append(reinvestedStockPerc)\n",
    "               \n",
    "    return priceList,dividendList\n",
    "\n",
    "def funcStockpriceReinvestedPrice(n):\n",
    "    priceList = []\n",
    "    reinvestedStockPercList = []\n",
    "    stockPerPrice = 28 #in dollars\n",
    "    totalShares = 100\n",
    "    for i in range(1, n+1):\n",
    "        stockPriceRevised = float(totalShares*stockPerPrice*((1.07)**i))\n",
    "        dividendValue = stockPriceRevised*(0.034*(1.2**(i-1)))  # Dividend = 3.4% of the total share and increases by 20% every year later\n",
    "        reinvestedStockPerc = dividendValue/stockPriceRevised\n",
    "        priceList.append(stockPriceRevised)\n",
    "        reinvestedStockPercList.append(reinvestedStockPerc)\n",
    "               \n",
    "    return priceList,reinvestedStockPercList"
   ]
  },
  {
   "cell_type": "markdown",
   "metadata": {},
   "source": [
    "# Creating a window which show the constant values and the years value default set as 1 - "
   ]
  },
  {
   "cell_type": "code",
   "execution_count": 114,
   "metadata": {},
   "outputs": [],
   "source": [
    "window = tk.Tk()\n",
    "window.title(\"Stock Value Calculator\")\n",
    "window.geometry(\"400x500\")\n",
    "window.configure(bg ='light green')\n",
    "tk.Label(window, bg='light green', text = 'Total Shares - ').grid(row = 2, sticky = 'W')\n",
    "tk.Label(window, bg='light green', text = 'Price per Share - ').grid(row = 4, sticky = 'W')\n",
    "tk.Label(window, bg='light green', text = 'Enter number of years - ').grid(row = 6, sticky = 'W')\n",
    "\n",
    "\n",
    "v1 = StringVar(window, value = '100')\n",
    "v2 = StringVar(window, value = '$28')\n",
    "v3 = StringVar(window, value = getint())\n",
    "v3.set(1)\n",
    "\n",
    "\n",
    "e1 = tk.Entry(window, textvariable = v1, background = 'light green', highlightthickness = 0, borderwidth=0)\n",
    "e2 = tk.Entry(window, textvariable = v2, background = 'light green', highlightthickness = 0, borderwidth=0)\n",
    "e3 = tk.Entry(window, textvariable = v3)\n",
    "\n",
    "e1.grid(row = 2, column = 3)\n",
    "e2.grid(row = 4, column = 3)\n",
    "e3.grid(row = 6, column = 3)\n",
    "\n"
   ]
  },
  {
   "cell_type": "code",
   "execution_count": 115,
   "metadata": {},
   "outputs": [],
   "source": [
    "# Creating a selection using radio button\n",
    "\n",
    "#v = StringVar(window,\"2\")\n",
    "v = IntVar()\n",
    "options = {\"Dividend WITH Reinvestment\":1, \"Dividend WITHOUT Reinvestment\":2}\n",
    "\n",
    "def sel():\n",
    "    choice  = v.get()\n",
    "    if choice == 1:\n",
    "        output = \"Dividend WITH Reinvestment\"\n",
    "        priceList,dividendOrStockList = funcStockpriceReinvestedPrice(int(v3.get()))\n",
    "    elif choice == 2:\n",
    "        output = \"Dividend WITHOUT Reinvestment\"\n",
    "        priceList,dividendOrStockList = funcStockpriceDividendPrice(int(v3.get()))\n",
    "    else:\n",
    "        output = \"invalid\"\n",
    "    messagebox.showinfo('PythonGuides', f'You Selected {output} for {str(v3.get())} with {str(len(priceList))} and {str(len(dividendOrStockList))}'  )\n",
    "    \n",
    "for (txt, val) in options.items():\n",
    "    Radiobutton(window, text=txt, variable=v, value=val, bg = 'light green',command=sel).grid(sticky = 'W')\n",
    "\n",
    "window.mainloop()"
   ]
  },
  {
   "cell_type": "code",
   "execution_count": 116,
   "metadata": {},
   "outputs": [],
   "source": [
    "row = []\n",
    "for i in range(12):\n",
    "    col = []\n",
    "    for j in range(3):\n",
    "        e = Entry(relief=GROOVE)\n",
    "        e.grid(row=i, column=j)\n",
    "        e.insert(END, '%d.%d' % (i, j))\n",
    "        col.append(e)\n",
    "    row.append(col)\n",
    "    \n",
    "window.mainloop()"
   ]
  },
  {
   "cell_type": "code",
   "execution_count": null,
   "metadata": {},
   "outputs": [],
   "source": []
  }
 ],
 "metadata": {
  "kernelspec": {
   "display_name": "Python 3",
   "language": "python",
   "name": "python3"
  },
  "language_info": {
   "codemirror_mode": {
    "name": "ipython",
    "version": 3
   },
   "file_extension": ".py",
   "mimetype": "text/x-python",
   "name": "python",
   "nbconvert_exporter": "python",
   "pygments_lexer": "ipython3",
   "version": "3.8.5"
  }
 },
 "nbformat": 4,
 "nbformat_minor": 4
}
