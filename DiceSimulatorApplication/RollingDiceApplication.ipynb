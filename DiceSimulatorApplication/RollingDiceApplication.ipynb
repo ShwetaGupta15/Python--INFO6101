{
 "cells": [
  {
   "cell_type": "code",
   "execution_count": 41,
   "metadata": {},
   "outputs": [],
   "source": [
    "# libraries for GUI applications, PIL(Python Imaging library) for loading images to the application, to generate random numbers\n",
    "\n",
    "import tkinter as tk\n",
    "from PIL import Image, ImageTk\n",
    "import random\n"
   ]
  },
  {
   "cell_type": "code",
   "execution_count": 42,
   "metadata": {},
   "outputs": [],
   "source": [
    "# representation of window of the application\n",
    "\n",
    "window = tk.Tk()\n",
    "window.geometry(\"500x500\")\n",
    "window.title('Dice Simualtion Application Python')\n",
    "window.configure(bg = 'light yellow')\n"
   ]
  },
  {
   "cell_type": "code",
   "execution_count": 43,
   "metadata": {},
   "outputs": [],
   "source": [
    "# adding title to the application\n",
    "\n",
    "window_Lbl = tk.Label(window, text=\"Welcome to the Dice Simulator Application..!!\", \n",
    "                      bg = \"light yellow\", font = \"Helvetica 20 bold\", fg = \"green\")\n",
    "window_Lbl_2 = tk.Label(window, text=\"Roll the Dice\", bg = \"light yellow\", font = \"Helvetica 14 bold italic\", fg = \"red\")\n",
    "window_Lbl.pack()\n",
    "window_Lbl_2.pack()"
   ]
  },
  {
   "cell_type": "code",
   "execution_count": 44,
   "metadata": {},
   "outputs": [],
   "source": [
    "# getting images on the window \n",
    "diceImg = ['Img1.jpg','Img2.jpg','Img3.jpg','Img4.jpg','Img5.jpg','Img6.jpg']\n",
    "\n",
    "# simulating the dice with random numbers between 0 to 6 and generating image\n",
    "getImages = ImageTk.PhotoImage(Image.open(random.choice(diceImg)))"
   ]
  },
  {
   "cell_type": "code",
   "execution_count": 45,
   "metadata": {},
   "outputs": [],
   "source": [
    "# getting image in the application\n",
    "\n",
    "label_img = tk.Label(window, image=getImages)\n",
    "label_img.image = getImages\n",
    "\n"
   ]
  },
  {
   "cell_type": "code",
   "execution_count": 46,
   "metadata": {},
   "outputs": [],
   "source": [
    "# packing image in the window (middle) \n",
    "label_img.pack(expand=True)"
   ]
  },
  {
   "cell_type": "code",
   "execution_count": 47,
   "metadata": {},
   "outputs": [],
   "source": [
    "# function for the button to generate numbers\n",
    "\n",
    "def rolling_dice():\n",
    "    getImages = ImageTk.PhotoImage(Image.open(random.choice(diceImg)))\n",
    "    # update image\n",
    "    label_img.configure(image=getImages)\n",
    "    # keep a reference\n",
    "    label_img.image = getImages\n"
   ]
  },
  {
   "cell_type": "code",
   "execution_count": 48,
   "metadata": {},
   "outputs": [],
   "source": [
    "buttonImg = tk.Button(window, text='Click Here to roll the Dice',bg = 'light grey', \n",
    "                      font = 'Helvetica 10 bold', fg='blue', command=rolling_dice)"
   ]
  },
  {
   "cell_type": "code",
   "execution_count": 49,
   "metadata": {},
   "outputs": [],
   "source": [
    "buttonImg.pack(expand=True)"
   ]
  },
  {
   "cell_type": "code",
   "execution_count": 50,
   "metadata": {},
   "outputs": [],
   "source": [
    "window.mainloop()"
   ]
  },
  {
   "cell_type": "code",
   "execution_count": null,
   "metadata": {},
   "outputs": [],
   "source": []
  },
  {
   "cell_type": "code",
   "execution_count": null,
   "metadata": {},
   "outputs": [],
   "source": []
  }
 ],
 "metadata": {
  "kernelspec": {
   "display_name": "Python 3",
   "language": "python",
   "name": "python3"
  },
  "language_info": {
   "codemirror_mode": {
    "name": "ipython",
    "version": 3
   },
   "file_extension": ".py",
   "mimetype": "text/x-python",
   "name": "python",
   "nbconvert_exporter": "python",
   "pygments_lexer": "ipython3",
   "version": "3.8.5"
  }
 },
 "nbformat": 4,
 "nbformat_minor": 4
}
